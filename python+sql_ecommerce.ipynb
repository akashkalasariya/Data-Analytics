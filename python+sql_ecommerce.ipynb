{
 "cells": [
  {
   "cell_type": "code",
   "execution_count": 4,
   "id": "94271858-f79b-4d76-a6a2-cff7883581e5",
   "metadata": {},
   "outputs": [],
   "source": [
    "import pandas as pd\n",
    "import matplotlib.pyplot as plt\n",
    "import seaborn as sns\n",
    "import mysql.connector\n",
    "import numpy as np\n",
    "\n",
    "db = mysql.connector.connect(host = \"localhost\",\n",
    "                            username = \"root\",\n",
    "                            password = \"1234\",\n",
    "                            database = \"ecommerce\")\n",
    "\n",
    "cur = db.cursor()"
   ]
  },
  {
   "cell_type": "markdown",
   "id": "20175812-870c-458f-96db-e2fd99915ab2",
   "metadata": {},
   "source": [
    " 1. List all unique cities where customers are located."
   ]
  },
  {
   "cell_type": "code",
   "execution_count": 3,
   "id": "ce113e39-1218-485a-b839-9baf6fc16395",
   "metadata": {},
   "outputs": [
    {
     "data": {
      "text/html": [
       "<div>\n",
       "<style scoped>\n",
       "    .dataframe tbody tr th:only-of-type {\n",
       "        vertical-align: middle;\n",
       "    }\n",
       "\n",
       "    .dataframe tbody tr th {\n",
       "        vertical-align: top;\n",
       "    }\n",
       "\n",
       "    .dataframe thead th {\n",
       "        text-align: right;\n",
       "    }\n",
       "</style>\n",
       "<table border=\"1\" class=\"dataframe\">\n",
       "  <thead>\n",
       "    <tr style=\"text-align: right;\">\n",
       "      <th></th>\n",
       "      <th>0</th>\n",
       "    </tr>\n",
       "  </thead>\n",
       "  <tbody>\n",
       "    <tr>\n",
       "      <th>0</th>\n",
       "      <td>franca</td>\n",
       "    </tr>\n",
       "    <tr>\n",
       "      <th>1</th>\n",
       "      <td>sao bernardo do campo</td>\n",
       "    </tr>\n",
       "    <tr>\n",
       "      <th>2</th>\n",
       "      <td>sao paulo</td>\n",
       "    </tr>\n",
       "    <tr>\n",
       "      <th>3</th>\n",
       "      <td>mogi das cruzes</td>\n",
       "    </tr>\n",
       "    <tr>\n",
       "      <th>4</th>\n",
       "      <td>campinas</td>\n",
       "    </tr>\n",
       "  </tbody>\n",
       "</table>\n",
       "</div>"
      ],
      "text/plain": [
       "                       0\n",
       "0                 franca\n",
       "1  sao bernardo do campo\n",
       "2              sao paulo\n",
       "3        mogi das cruzes\n",
       "4               campinas"
      ]
     },
     "execution_count": 3,
     "metadata": {},
     "output_type": "execute_result"
    }
   ],
   "source": [
    "cur.execute(\"select distinct customer_city from customers\")\n",
    "data = cur.fetchall()\n",
    "df = pd.DataFrame(data)\n",
    "df.head()"
   ]
  },
  {
   "cell_type": "markdown",
   "id": "bec3f49c-ba9d-4af2-9595-8e1b165ee1dd",
   "metadata": {},
   "source": [
    "2. Count the number of orders placed in 2017."
   ]
  },
  {
   "cell_type": "code",
   "execution_count": 11,
   "id": "0fe36735-6749-404f-bd8f-ed74a5c92ab2",
   "metadata": {},
   "outputs": [
    {
     "data": {
      "text/plain": [
       "('total number of placed in 2017', 135303)"
      ]
     },
     "execution_count": 11,
     "metadata": {},
     "output_type": "execute_result"
    }
   ],
   "source": [
    "cur.execute(\"select count(order_id) from orders where year(order_purchase_timestamp) = 2017\")\n",
    "data = cur.fetchall()\n",
    "\"total number of placed in 2017\", data [0][0] ## [0][0] value tuple ke array ma na batave tena mate\n"
   ]
  },
  {
   "cell_type": "markdown",
   "id": "bce111cd-1945-48fb-bfe0-910f100219e2",
   "metadata": {},
   "source": [
    " 3. Find the total sales per category."
   ]
  },
  {
   "cell_type": "code",
   "execution_count": 47,
   "id": "cc42dd15-45e0-45bb-80b0-e22af6962e78",
   "metadata": {},
   "outputs": [
    {
     "data": {
      "text/html": [
       "<div>\n",
       "<style scoped>\n",
       "    .dataframe tbody tr th:only-of-type {\n",
       "        vertical-align: middle;\n",
       "    }\n",
       "\n",
       "    .dataframe tbody tr th {\n",
       "        vertical-align: top;\n",
       "    }\n",
       "\n",
       "    .dataframe thead th {\n",
       "        text-align: right;\n",
       "    }\n",
       "</style>\n",
       "<table border=\"1\" class=\"dataframe\">\n",
       "  <thead>\n",
       "    <tr style=\"text-align: right;\">\n",
       "      <th></th>\n",
       "      <th>category</th>\n",
       "      <th>sales</th>\n",
       "    </tr>\n",
       "  </thead>\n",
       "  <tbody>\n",
       "    <tr>\n",
       "      <th>0</th>\n",
       "      <td>PERFUMERY</td>\n",
       "      <td>506738.66</td>\n",
       "    </tr>\n",
       "    <tr>\n",
       "      <th>1</th>\n",
       "      <td>FURNITURE DECORATION</td>\n",
       "      <td>1430176.39</td>\n",
       "    </tr>\n",
       "    <tr>\n",
       "      <th>2</th>\n",
       "      <td>TELEPHONY</td>\n",
       "      <td>486882.05</td>\n",
       "    </tr>\n",
       "    <tr>\n",
       "      <th>3</th>\n",
       "      <td>BED TABLE BATH</td>\n",
       "      <td>1712553.67</td>\n",
       "    </tr>\n",
       "    <tr>\n",
       "      <th>4</th>\n",
       "      <td>AUTOMOTIVE</td>\n",
       "      <td>852294.33</td>\n",
       "    </tr>\n",
       "  </tbody>\n",
       "</table>\n",
       "</div>"
      ],
      "text/plain": [
       "               category       sales\n",
       "0             PERFUMERY   506738.66\n",
       "1  FURNITURE DECORATION  1430176.39\n",
       "2             TELEPHONY   486882.05\n",
       "3        BED TABLE BATH  1712553.67\n",
       "4            AUTOMOTIVE   852294.33"
      ]
     },
     "execution_count": 47,
     "metadata": {},
     "output_type": "execute_result"
    }
   ],
   "source": [
    "cur.execute(\"\"\"select upper(products.product_category) as category, \n",
    "\t   round(sum(payments.payment_value),2) as sales\n",
    "       from products\n",
    "       join order_items\n",
    "       on products.product_id = order_items.product_id\n",
    "\t   join payments\n",
    "       on payments.order_id = order_items.order_id\n",
    "       group by category\"\"\")\n",
    "\n",
    "data = cur.fetchall()\n",
    "#import pandas as pd\n",
    "df = pd.DataFrame(data, columns = [\"category\", \"sales\"])\n",
    "#df.to_csv('desktop/customer_cities.csv', index=False)\n",
    "df.head()\n"
   ]
  },
  {
   "cell_type": "markdown",
   "id": "ce8f8ba2-a97c-40ff-8925-3e25e2a9acd4",
   "metadata": {},
   "source": [
    "4. Calculate the percentage of orders that were paid in installments."
   ]
  },
  {
   "cell_type": "code",
   "execution_count": 8,
   "id": "1726a620-a0cf-4b02-b12c-6f86b11fb89b",
   "metadata": {},
   "outputs": [
    {
     "data": {
      "text/plain": [
       "('the percentage of orders that were paid in installments', Decimal('99.9981'))"
      ]
     },
     "execution_count": 8,
     "metadata": {},
     "output_type": "execute_result"
    }
   ],
   "source": [
    "cur.execute(\"\"\"select (sum(case when payment_installments >= 1 then 1 else 0 end))/count(*)*100  from payments\"\"\")\n",
    "data = cur.fetchall()\n",
    "\"the percentage of orders that were paid in installments\",data [0][0]"
   ]
  },
  {
   "cell_type": "markdown",
   "id": "a432f890-1c8a-485d-9498-ee0b409f33b0",
   "metadata": {},
   "source": [
    "5. Count the number of customers from each state. "
   ]
  },
  {
   "cell_type": "code",
   "execution_count": 4,
   "id": "66403f77-f46e-4271-974c-647c4b8c238a",
   "metadata": {},
   "outputs": [
    {
     "data": {
      "image/png": "[encoded data removed]",
      "text/plain": [
       "<Figure size 800x300 with 1 Axes>"
      ]
     },
     "metadata": {},
     "output_type": "display_data"
    }
   ],
   "source": [
    "query = (\"\"\"SELECT customer_state AS state, COUNT(customer_id) AS total FROM customers GROUP BY customer_state\"\"\")\n",
    "cur.execute(query)\n",
    "data = cur.fetchall()\n",
    "df = pd.DataFrame(data, columns = [\"state\", \"customer_count\"])\n",
    "df = df.sort_values(by = \"customer_count\", ascending = False) #DESCENDING ORDER ME GRPH KARNE KE LIYE\n",
    "plt.figure(figsize = (8,3)) #graph ki size manage karne ke liye\n",
    "plt.bar(df[\"state\"],df[\"customer_count\"])\n",
    "plt.xticks(rotation = 90)\n",
    "plt.xlabel(\"states\")\n",
    "plt.ylabel(\"count_customer\")\n",
    "plt.title(\"count of customer by states\")\n",
    "\n",
    "#sns.barplot(data = df,x = \"state\", y = \"customer_count\" , palette = \"spring\")\n",
    "plt.show()  "
   ]
  },
  {
   "cell_type": "markdown",
   "id": "f3e99258-564e-426e-bda9-d0d1192cd4cd",
   "metadata": {},
   "source": [
    "6. Calculate the number of orders per month in 2018."
   ]
  },
  {
   "cell_type": "code",
   "execution_count": 71,
   "id": "89f655fd-ae63-4553-ac1c-50b75897787a",
   "metadata": {},
   "outputs": [
    {
     "data": {
      "image/png": "[encoded data removed]",
      "text/plain": [
       "<Figure size 640x480 with 1 Axes>"
      ]
     },
     "metadata": {},
     "output_type": "display_data"
    }
   ],
   "source": [
    "cur.execute(\"\"\"select monthname(order_purchase_timestamp) as months, count(order_id) from orders\n",
    "where year(order_purchase_timestamp) = 2018\n",
    "group by months\"\"\")\n",
    "data = cur.fetchall()\n",
    "o = [\"January\",\"February\",\"March\",\"April\",\"May\",\"June\",\"July\",\"August\",\"September\",\"October\",\"November\",\"December\"]\n",
    "df = pd.DataFrame(data, columns = [\"months\",\"order_count\"])\n",
    "ax = sns.barplot(data = df, x = \"months\",y = \"order_count\",order = o, color = \"pink\")\n",
    "plt.xticks(rotation = 45)\n",
    "ax.bar_label(ax.containers[0],fontsize=8) #plot ke upr label ke liye\n",
    "plt.title(\"count of order by months is 2018\")\n",
    "plt.show()"
   ]
  },
  {
   "cell_type": "markdown",
   "id": "85faf89c-8ded-4fb4-a475-6f358022456f",
   "metadata": {},
   "source": [
    "7. Find the average number of products per order, grouped by customer city."
   ]
  },
  {
   "cell_type": "code",
   "execution_count": 9,
   "id": "59447226-8a07-4545-8bd7-6ad7075dbc1f",
   "metadata": {},
   "outputs": [
    {
     "data": {
      "text/html": [
       "<div>\n",
       "<style scoped>\n",
       "    .dataframe tbody tr th:only-of-type {\n",
       "        vertical-align: middle;\n",
       "    }\n",
       "\n",
       "    .dataframe tbody tr th {\n",
       "        vertical-align: top;\n",
       "    }\n",
       "\n",
       "    .dataframe thead th {\n",
       "        text-align: right;\n",
       "    }\n",
       "</style>\n",
       "<table border=\"1\" class=\"dataframe\">\n",
       "  <thead>\n",
       "    <tr style=\"text-align: right;\">\n",
       "      <th></th>\n",
       "      <th>customer city</th>\n",
       "      <th>average order</th>\n",
       "    </tr>\n",
       "  </thead>\n",
       "  <tbody>\n",
       "    <tr>\n",
       "      <th>0</th>\n",
       "      <td>padre carvalho</td>\n",
       "      <td>21.00</td>\n",
       "    </tr>\n",
       "    <tr>\n",
       "      <th>1</th>\n",
       "      <td>celso ramos</td>\n",
       "      <td>19.50</td>\n",
       "    </tr>\n",
       "    <tr>\n",
       "      <th>2</th>\n",
       "      <td>datas</td>\n",
       "      <td>18.00</td>\n",
       "    </tr>\n",
       "    <tr>\n",
       "      <th>3</th>\n",
       "      <td>candido godoi</td>\n",
       "      <td>18.00</td>\n",
       "    </tr>\n",
       "    <tr>\n",
       "      <th>4</th>\n",
       "      <td>matias olimpio</td>\n",
       "      <td>15.00</td>\n",
       "    </tr>\n",
       "    <tr>\n",
       "      <th>5</th>\n",
       "      <td>cidelandia</td>\n",
       "      <td>12.00</td>\n",
       "    </tr>\n",
       "    <tr>\n",
       "      <th>6</th>\n",
       "      <td>curralinho</td>\n",
       "      <td>12.00</td>\n",
       "    </tr>\n",
       "    <tr>\n",
       "      <th>7</th>\n",
       "      <td>picarra</td>\n",
       "      <td>12.00</td>\n",
       "    </tr>\n",
       "    <tr>\n",
       "      <th>8</th>\n",
       "      <td>morro de sao paulo</td>\n",
       "      <td>12.00</td>\n",
       "    </tr>\n",
       "    <tr>\n",
       "      <th>9</th>\n",
       "      <td>teixeira soares</td>\n",
       "      <td>12.00</td>\n",
       "    </tr>\n",
       "  </tbody>\n",
       "</table>\n",
       "</div>"
      ],
      "text/plain": [
       "        customer city average order\n",
       "0      padre carvalho         21.00\n",
       "1         celso ramos         19.50\n",
       "2               datas         18.00\n",
       "3       candido godoi         18.00\n",
       "4      matias olimpio         15.00\n",
       "5          cidelandia         12.00\n",
       "6          curralinho         12.00\n",
       "7             picarra         12.00\n",
       "8  morro de sao paulo         12.00\n",
       "9     teixeira soares         12.00"
      ]
     },
     "execution_count": 9,
     "metadata": {},
     "output_type": "execute_result"
    }
   ],
   "source": [
    "cur.execute(\"\"\"WITH count_per_order AS (SELECT orders.order_id, orders.customer_id, count(order_items.order_id) AS oc\n",
    "FROM orders\n",
    "JOIN order_items\n",
    "ON orders.order_id = order_items.order_id\n",
    "GROUP BY orders.order_id, orders.customer_id)\n",
    "\n",
    "SELECT customers.customer_city, ROUND(AVG(count_per_order.oc),2) AS average_orders\n",
    "FROM customers\n",
    "JOIN count_per_order\n",
    "ON customers.customer_id = count_per_order.customer_id\n",
    "GROUP BY customers.customer_city order by average_orders desc\"\"\")\n",
    "\n",
    "data = cur.fetchall()\n",
    "df = pd.DataFrame(data, columns = [\"customer city\", \"average order\"])\n",
    "df.head(10)"
   ]
  },
  {
   "cell_type": "markdown",
   "id": "5715c440",
   "metadata": {},
   "source": [
    "8. Calculate the percentage of total revenue contributed by each product category."
   ]
  },
  {
   "cell_type": "code",
   "execution_count": 7,
   "id": "16f4e403",
   "metadata": {},
   "outputs": [
    {
     "data": {
      "text/html": [
       "<div>\n",
       "<style scoped>\n",
       "    .dataframe tbody tr th:only-of-type {\n",
       "        vertical-align: middle;\n",
       "    }\n",
       "\n",
       "    .dataframe tbody tr th {\n",
       "        vertical-align: top;\n",
       "    }\n",
       "\n",
       "    .dataframe thead th {\n",
       "        text-align: right;\n",
       "    }\n",
       "</style>\n",
       "<table border=\"1\" class=\"dataframe\">\n",
       "  <thead>\n",
       "    <tr style=\"text-align: right;\">\n",
       "      <th></th>\n",
       "      <th>category</th>\n",
       "      <th>prouuct average disstribution</th>\n",
       "    </tr>\n",
       "  </thead>\n",
       "  <tbody>\n",
       "    <tr>\n",
       "      <th>0</th>\n",
       "      <td>BED TABLE BATH</td>\n",
       "      <td>10.70</td>\n",
       "    </tr>\n",
       "    <tr>\n",
       "      <th>1</th>\n",
       "      <td>HEALTH BEAUTY</td>\n",
       "      <td>10.35</td>\n",
       "    </tr>\n",
       "    <tr>\n",
       "      <th>2</th>\n",
       "      <td>COMPUTER ACCESSORIES</td>\n",
       "      <td>9.90</td>\n",
       "    </tr>\n",
       "    <tr>\n",
       "      <th>3</th>\n",
       "      <td>FURNITURE DECORATION</td>\n",
       "      <td>8.93</td>\n",
       "    </tr>\n",
       "    <tr>\n",
       "      <th>4</th>\n",
       "      <td>WATCHES PRESENT</td>\n",
       "      <td>8.93</td>\n",
       "    </tr>\n",
       "    <tr>\n",
       "      <th>...</th>\n",
       "      <td>...</td>\n",
       "      <td>...</td>\n",
       "    </tr>\n",
       "    <tr>\n",
       "      <th>69</th>\n",
       "      <td>HOUSE COMFORT 2</td>\n",
       "      <td>0.01</td>\n",
       "    </tr>\n",
       "    <tr>\n",
       "      <th>70</th>\n",
       "      <td>CDS MUSIC DVDS</td>\n",
       "      <td>0.01</td>\n",
       "    </tr>\n",
       "    <tr>\n",
       "      <th>71</th>\n",
       "      <td>PC GAMER</td>\n",
       "      <td>0.01</td>\n",
       "    </tr>\n",
       "    <tr>\n",
       "      <th>72</th>\n",
       "      <td>FASHION CHILDREN'S CLOTHING</td>\n",
       "      <td>0.00</td>\n",
       "    </tr>\n",
       "    <tr>\n",
       "      <th>73</th>\n",
       "      <td>INSURANCE AND SERVICES</td>\n",
       "      <td>0.00</td>\n",
       "    </tr>\n",
       "  </tbody>\n",
       "</table>\n",
       "<p>74 rows × 2 columns</p>\n",
       "</div>"
      ],
      "text/plain": [
       "                       category  prouuct average disstribution\n",
       "0                BED TABLE BATH                          10.70\n",
       "1                 HEALTH BEAUTY                          10.35\n",
       "2          COMPUTER ACCESSORIES                           9.90\n",
       "3          FURNITURE DECORATION                           8.93\n",
       "4               WATCHES PRESENT                           8.93\n",
       "..                          ...                            ...\n",
       "69              HOUSE COMFORT 2                           0.01\n",
       "70               CDS MUSIC DVDS                           0.01\n",
       "71                     PC GAMER                           0.01\n",
       "72  FASHION CHILDREN'S CLOTHING                           0.00\n",
       "73       INSURANCE AND SERVICES                           0.00\n",
       "\n",
       "[74 rows x 2 columns]"
      ]
     },
     "execution_count": 7,
     "metadata": {},
     "output_type": "execute_result"
    }
   ],
   "source": [
    "cur.execute(\"\"\"select upper(products.product_category) as category, \n",
    "\t   round((sum(payments.payment_value)/(select sum(payment_value)from payments))*100,2) as sales_percentage\n",
    "       from products\n",
    "       join order_items\n",
    "       on products.product_id = order_items.product_id\n",
    "\t   join payments\n",
    "       on payments.order_id = order_items.order_id\n",
    "       group by category order by sales_percentage desc\"\"\")\n",
    "\n",
    "data = cur.fetchall()\n",
    "df = pd.DataFrame(data, columns = [\"category\", \"prouuct average disstribution\"])\n",
    "df\n",
    "#plt.pie(df[\"prouuct average disstribution\"], labels = df[\"category\"])\n",
    "#plt.show()"
   ]
  },
  {
   "cell_type": "markdown",
   "id": "888be555-c599-4eb4-ae31-3974796da265",
   "metadata": {},
   "source": [
    "9. Identify the correlation between product price and the number of times a product has been purchased."
   ]
  },
  {
   "cell_type": "code",
   "execution_count": 12,
   "id": "3acb6b5c-2f6d-4d35-8f55-268561f8b0dd",
   "metadata": {},
   "outputs": [
    {
     "name": "stdout",
     "output_type": "stream",
     "text": [
      "the correlation between product price and the number of times a product has been purchased is -0.10631514167157562\n"
     ]
    }
   ],
   "source": [
    "cur.execute(\"\"\"SELECT products.product_category, COUNT(order_items.product_id), ROUND(AVG(order_items.price),2)\n",
    "FROM products\n",
    "join order_items\n",
    "ON products.product_id = order_items.product_id\n",
    "GROUP BY products.product_category\"\"\")\n",
    "\n",
    "data = cur.fetchall()\n",
    "\n",
    "df = pd.DataFrame(data, columns = [\"category\", \"count\", \"price\"])\n",
    "#df\n",
    "\n",
    "arr1 = df[\"count\"]\n",
    "arr2 = df[\"price\"]\n",
    "\n",
    "a = np.corrcoef([arr1,arr2])\n",
    "print(\"the correlation between product price and the number of times a product has been purchased is\", a[0][1])\n"
   ]
  },
  {
   "cell_type": "markdown",
   "id": "cdcc95d5-ebce-4f9f-92ea-4de7816a2989",
   "metadata": {},
   "source": [
    "10. Calculate the total revenue generated by each seller, and rank them by revenue."
   ]
  },
  {
   "cell_type": "code",
   "execution_count": 5,
   "id": "d0772b4f-af9d-4703-b587-4eb859431016",
   "metadata": {},
   "outputs": [
    {
     "data": {
      "image/png": "[encoded data removed]",
      "text/plain": [
       "<Figure size 640x480 with 1 Axes>"
      ]
     },
     "metadata": {},
     "output_type": "display_data"
    }
   ],
   "source": [
    "cur.execute(\"\"\"select *, dense_rank() over(order by revenue) AS rn from \n",
    "(SELECT order_items.seller_id, ROUND(SUM(payments.payment_value),2) AS revenue\n",
    "FROM order_items\n",
    "JOIN payments\n",
    "ON order_items.order_id = payments.order_id\n",
    "GROUP BY order_items.seller_id) as A \"\"\")\n",
    "\n",
    "data = cur.fetchall()\n",
    "df = pd.DataFrame(data, columns = [\"seller_id\", \"revenue\", \"rank\"])\n",
    "df = df.head()\n",
    "sns.barplot(data = df, x = \"seller_id\", y = \"revenue\")\n",
    "\n",
    "plt.xticks(rotation = 90)\n",
    "plt.show()"
   ]
  }
 ],
 "metadata": {
  "kernelspec": {
   "display_name": "Python 3",
   "language": "python",
   "name": "python3"
  },
  "language_info": {
   "codemirror_mode": {
    "name": "ipython",
    "version": 3
   },
   "file_extension": ".py",
   "mimetype": "text/x-python",
   "name": "python",
   "nbconvert_exporter": "python",
   "pygments_lexer": "ipython3",
   "version": "3.12.3"
  }
 },
 "nbformat": 4,
 "nbformat_minor": 5
}
